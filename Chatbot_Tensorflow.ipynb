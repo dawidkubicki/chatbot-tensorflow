{
  "nbformat": 4,
  "nbformat_minor": 0,
  "metadata": {
    "colab": {
      "name": "Chatbot-Tensorflow.ipynb",
      "provenance": [],
      "collapsed_sections": [],
      "mount_file_id": "1FVt4q6N5-5gn8olzMdjo7C9pdxlDajY4",
      "authorship_tag": "ABX9TyNiWjvrUafu/eHxU/lCK+pW",
      "include_colab_link": true
    },
    "kernelspec": {
      "name": "python3",
      "display_name": "Python 3"
    },
    "accelerator": "GPU"
  },
  "cells": [
    {
      "cell_type": "markdown",
      "metadata": {
        "id": "view-in-github",
        "colab_type": "text"
      },
      "source": [
        "<a href=\"https://colab.research.google.com/github/dawidkubicki/chatbot-tensorflow/blob/main/Chatbot_Tensorflow.ipynb\" target=\"_parent\"><img src=\"https://colab.research.google.com/assets/colab-badge.svg\" alt=\"Open In Colab\"/></a>"
      ]
    },
    {
      "cell_type": "markdown",
      "metadata": {
        "id": "iDQdjBRH0DyF"
      },
      "source": [
        "## Connect to the GDrive"
      ]
    },
    {
      "cell_type": "code",
      "metadata": {
        "id": "2-5x6CjK0J0h"
      },
      "source": [
        "#from google.colab import drive\n",
        "#drive.mount('/content/gdrive')"
      ],
      "execution_count": 40,
      "outputs": []
    },
    {
      "cell_type": "markdown",
      "metadata": {
        "id": "qh7NCrf12uaT"
      },
      "source": [
        "## Change root path"
      ]
    },
    {
      "cell_type": "code",
      "metadata": {
        "id": "qdCoLRFz22Ps",
        "colab": {
          "base_uri": "https://localhost:8080/"
        },
        "outputId": "3132a2e7-3016-4cf3-d6c6-b5ed7be9b52a"
      },
      "source": [
        "#root_path = '/content/gdrive/My Drive/Colab/'\n",
        "\n",
        "import os \n",
        "\n",
        "# Set your working directory to a folder in your Google Drive. This way, if your notebook times out,\n",
        "# your files will be saved in your Google Drive!\n",
        "\n",
        "# the base Google Drive directory\n",
        "root_dir = \"/content/drive/My Drive/\"\n",
        "\n",
        "# choose where you want your project files to be saved\n",
        "project_folder = \"Colab/\"\n",
        "\n",
        "def create_and_set_working_directory(project_folder):\n",
        "  # check if your project folder exists. if not, it will be created.\n",
        "  if os.path.isdir(root_dir + project_folder) == False:\n",
        "    os.mkdir(root_dir + project_folder)\n",
        "    print(root_dir + project_folder + ' did not exist but was created.')\n",
        "\n",
        "  # change the OS to use your project folder as the working directory\n",
        "  os.chdir(root_dir + project_folder)\n",
        "\n",
        "  # create a test file to make sure it shows up in the right place\n",
        "  !touch 'test_file.txt'\n",
        "  print('\\nYour working directory was changed to ' + root_dir + project_folder + \\\n",
        "        \"\\n\\nAn empty text file was created there. You can also run !pwd to confirm the current working directory.\" )\n",
        "\n",
        "create_and_set_working_directory(project_folder)"
      ],
      "execution_count": 41,
      "outputs": [
        {
          "output_type": "stream",
          "text": [
            "\n",
            "Your working directory was changed to /content/drive/My Drive/Colab/\n",
            "\n",
            "An empty text file was created there. You can also run !pwd to confirm the current working directory.\n"
          ],
          "name": "stdout"
        }
      ]
    },
    {
      "cell_type": "markdown",
      "metadata": {
        "id": "2EMRrqgJjJ4q"
      },
      "source": [
        "## Download dataset\n",
        "\n"
      ]
    },
    {
      "cell_type": "code",
      "metadata": {
        "id": "76qSsEAqhalI"
      },
      "source": [
        "#!wget http://www.cs.cornell.edu/~cristian/data/cornell_movie_dialogs_corpus.zip\n",
        "#!unzip cornell_movie_dialogs_corpus.zip"
      ],
      "execution_count": 42,
      "outputs": []
    },
    {
      "cell_type": "markdown",
      "metadata": {
        "id": "HGFphkRN1YTj"
      },
      "source": [
        "## Firstly import all necessaries libraries\n"
      ]
    },
    {
      "cell_type": "code",
      "metadata": {
        "id": "jHaxt9ACj8Pu"
      },
      "source": [
        "import numpy as np\n",
        "import tensorflow as tf\n",
        "import re\n",
        "import time"
      ],
      "execution_count": 43,
      "outputs": []
    },
    {
      "cell_type": "markdown",
      "metadata": {
        "id": "wqTZ9k5J_MtF"
      },
      "source": [
        "# Preprocessing"
      ]
    },
    {
      "cell_type": "markdown",
      "metadata": {
        "id": "tTMV0Dkg1ixi"
      },
      "source": [
        "## Import dataset to the project"
      ]
    },
    {
      "cell_type": "code",
      "metadata": {
        "id": "Xj05XpBR1if6"
      },
      "source": [
        "lines = open('dataset/movie_lines.txt', encoding='utf-8', errors='ignore').read().split('\\n')\n",
        "conversations = open('dataset/movie_conversations.txt', encoding='utf-8', errors='ignore').read().split('\\n')"
      ],
      "execution_count": 44,
      "outputs": []
    },
    {
      "cell_type": "markdown",
      "metadata": {
        "id": "m5hAzR-5-Omc"
      },
      "source": [
        "## Create a dictionary that maps each line and it's ID"
      ]
    },
    {
      "cell_type": "code",
      "metadata": {
        "id": "r8BZXY-i-hqF"
      },
      "source": [
        "id2line = {} #init dictionary\n",
        "for line in lines:\n",
        "  _line = line.split(' +++$+++ ')\n",
        "  if len(_line) == 5:\n",
        "    id2line[_line[0]] = _line[4]\n",
        "\n",
        "# JUST TO CHECK DATA IN GOOGLE COLAB\n",
        "# retrieve key/value pairs\n",
        "#els = list(id2line.items()) # explicitly convert to a list, in case it's Python 3.x\n",
        "\n",
        "# get first inserted element \n",
        "#print(els[0])\n",
        "\n"
      ],
      "execution_count": 45,
      "outputs": []
    },
    {
      "cell_type": "markdown",
      "metadata": {
        "id": "ko8sKZMvy-pG"
      },
      "source": [
        "## Create a list of all of the conversations"
      ]
    },
    {
      "cell_type": "code",
      "metadata": {
        "id": "sYfmpvmlzcXo"
      },
      "source": [
        "conversations_ids = []\n",
        "for conversation in conversations[:-1]:\n",
        "  _conversation = conversation.split(\" +++$+++ \")[-1][1:-1].replace(\"'\",\"\").replace(\" \",\"\")\n",
        "  conversations_ids.append(_conversation.split(\",\"))\n",
        "#print(conversations_ids[0])\n",
        "#print(conversations_ids[0])"
      ],
      "execution_count": 46,
      "outputs": []
    },
    {
      "cell_type": "markdown",
      "metadata": {
        "id": "GS44lfRiqDdn"
      },
      "source": [
        "## Getting separately the questions and the answers"
      ]
    },
    {
      "cell_type": "code",
      "metadata": {
        "id": "8Ilw9YaNqRma"
      },
      "source": [
        "questions = []\n",
        "answers = []\n",
        "for conversation in conversations_ids:\n",
        "  for i in range(len(conversation) - 1):\n",
        "    questions.append(id2line[conversation[i]])\n",
        "    answers.append(id2line[conversation[i+1]])\n",
        "\n",
        "#print(questions[0])\n",
        "#print(answers[0])\n"
      ],
      "execution_count": 47,
      "outputs": []
    },
    {
      "cell_type": "markdown",
      "metadata": {
        "id": "DKqx7_pWeK3q"
      },
      "source": [
        "### Cleaning text function define"
      ]
    },
    {
      "cell_type": "code",
      "metadata": {
        "id": "FSx2d9UBeNLn"
      },
      "source": [
        "def clean_text(text):\n",
        "  #put all the text to lowercase\n",
        "  text = text.lower()\n",
        "  #removing aposthrophies with re library\n",
        "  text = re.sub(r\"i'm\", \"i am\", text)\n",
        "  text = re.sub(r\"he's\", \"he is\", text)\n",
        "  text = re.sub(r\"she's\", \"she is\", text)\n",
        "  text = re.sub(r\"that's\", \"that is\", text)\n",
        "  text = re.sub(r\"what's\", \"what is\", text)\n",
        "  text = re.sub(r\"where's\", \"where is\", text)\n",
        "  text = re.sub(r\"\\'ll\", \" will\", text)\n",
        "  text = re.sub(r\"\\'ve\", \" have\", text)\n",
        "  text = re.sub(r\"\\'re\", \" are\", text)\n",
        "  text = re.sub(r\"\\'d\", \" whould\", text)\n",
        "  text = re.sub(r\"won't\", \"will not\", text)\n",
        "  text = re.sub(r\"can't\", \"cannot\", text)\n",
        "  text = re.sub(r\"[-()\\\"#/@;:<>{}+=~|.?,]\", \"\", text)\n",
        "  return text"
      ],
      "execution_count": 48,
      "outputs": []
    },
    {
      "cell_type": "markdown",
      "metadata": {
        "id": "jEobb9UngllY"
      },
      "source": [
        "### Cleaning questions and answers"
      ]
    },
    {
      "cell_type": "code",
      "metadata": {
        "id": "tsf29AjKgnvo"
      },
      "source": [
        "clean_questions = []\n",
        "clean_answers = []\n",
        "\n",
        "for question in questions:\n",
        "  clean_questions.append(clean_text(question))\n",
        "\n",
        "for answer in answers:\n",
        "  clean_answers.append(clean_text(answer))  "
      ],
      "execution_count": 49,
      "outputs": []
    },
    {
      "cell_type": "markdown",
      "metadata": {
        "id": "IB_ZJZvPia30"
      },
      "source": [
        "### Creating a dictionary that maps each word to it's number of occurencies\n"
      ]
    },
    {
      "cell_type": "code",
      "metadata": {
        "id": "shqJNpq9imFY"
      },
      "source": [
        "word2count = {}\n",
        "\n",
        "for question in clean_questions:\n",
        "  for word in question.split():\n",
        "    if word not in word2count:\n",
        "      word2count[word] = 1\n",
        "    else:\n",
        "      word2count[word] += 1\n",
        "\n",
        "for answer in clean_answers:\n",
        "  for word in answer.split():\n",
        "    if word not in word2count:\n",
        "      word2count[word] = 1\n",
        "    else:\n",
        "      word2count[word] += 1      "
      ],
      "execution_count": 50,
      "outputs": []
    },
    {
      "cell_type": "markdown",
      "metadata": {
        "id": "DiZz22lx7zvG"
      },
      "source": [
        "### Creating two dictionaries that map the questions words and the answers words to a unique integer"
      ]
    },
    {
      "cell_type": "code",
      "metadata": {
        "id": "jsXgppaA8Dtq"
      },
      "source": [
        "threshold = 20\n",
        "questionwords2int = {}\n",
        "word_number = 0 \n",
        "for word, count in word2count.items():\n",
        "  if count > threshold:\n",
        "    questionwords2int[word] = word_number\n",
        "    word_number += 1\n",
        "\n",
        "answerwords2int = {}\n",
        "word_number = 0 \n",
        "for word, count in word2count.items():\n",
        "  if count > threshold:\n",
        "    answerwords2int[word] = word_number\n",
        "    word_number += 1\n",
        "\n",
        "# print(answerwords2int.items())"
      ],
      "execution_count": 51,
      "outputs": []
    },
    {
      "cell_type": "markdown",
      "metadata": {
        "id": "tBqe2m_CAOlY"
      },
      "source": [
        "### Adding the last tokens to these two dictionaries"
      ]
    },
    {
      "cell_type": "code",
      "metadata": {
        "id": "TJWLCvCDAT0i"
      },
      "source": [
        "tokens = ['<PAD>', '<EOS>', '<OUT>', '<SOS>']\n",
        "for token in tokens:\n",
        "  questionwords2int[token] = len(questionwords2int) + 1\n",
        "\n",
        "for token in tokens:\n",
        "  answerwords2int[token] = len(answerwords2int) + 1\n",
        "#print(answerwords2int.items())  "
      ],
      "execution_count": 52,
      "outputs": []
    },
    {
      "cell_type": "markdown",
      "metadata": {
        "id": "AE7MRt-aNMOJ"
      },
      "source": [
        "### Create an inverse dictionary of the answerwords2int dictionary"
      ]
    },
    {
      "cell_type": "code",
      "metadata": {
        "id": "MtZiJlFwNT_D"
      },
      "source": [
        "answerint2word = {w_i: w for w, w_i in answerwords2int.items()}"
      ],
      "execution_count": 53,
      "outputs": []
    },
    {
      "cell_type": "markdown",
      "metadata": {
        "id": "uFqPGyF2OjmQ"
      },
      "source": [
        "### Adding the EOS token to the end of every answer"
      ]
    },
    {
      "cell_type": "code",
      "metadata": {
        "id": "qwxtyKGbOp4P"
      },
      "source": [
        "for i in range(len(clean_answers)):\n",
        "  clean_answers[i] += ' <EOS>'"
      ],
      "execution_count": 54,
      "outputs": []
    },
    {
      "cell_type": "markdown",
      "metadata": {
        "id": "qAHxGhdiRSA9"
      },
      "source": [
        "### Translating all the questions and the answers into integers and replacing all the words that were filtered out by <OUT>"
      ]
    },
    {
      "cell_type": "code",
      "metadata": {
        "id": "VsZN_MjbRiul",
        "colab": {
          "base_uri": "https://localhost:8080/"
        },
        "outputId": "f0b597b2-cf51-4988-a005-f4f7a4903306"
      },
      "source": [
        "questions_to_int = []\n",
        "for question in clean_questions:\n",
        "  ints = []\n",
        "  for word in question.split():\n",
        "    if word not in questionwords2int:\n",
        "      ints.append(questionwords2int['<OUT>'])\n",
        "    else:\n",
        "      ints.append(questionwords2int[word])\n",
        "  questions_to_int.append(ints)\n",
        "\n",
        "print(questions_to_int[0])\n",
        "\n",
        "answers_to_int = []\n",
        "for answer in clean_answers:\n",
        "  ints = []\n",
        "  for word in answer.split():\n",
        "    if word not in answerwords2int:\n",
        "      ints.append(answerwords2int['<OUT>'])\n",
        "    else:\n",
        "      ints.append(answerwords2int[word])\n",
        "  answers_to_int.append(ints)"
      ],
      "execution_count": 55,
      "outputs": [
        {
          "output_type": "stream",
          "text": [
            "[0, 1, 2, 3, 4, 8541, 8541, 5, 6, 8541, 7, 8, 9, 10, 8541, 11, 12, 13, 14, 15, 8541, 16]\n"
          ],
          "name": "stdout"
        }
      ]
    },
    {
      "cell_type": "markdown",
      "metadata": {
        "id": "_2cliE3hKQwF"
      },
      "source": [
        "### Sorting questions and answers by the length of questions (this will speed up the training)"
      ]
    },
    {
      "cell_type": "code",
      "metadata": {
        "colab": {
          "base_uri": "https://localhost:8080/"
        },
        "id": "xSTS78C5Ka0Y",
        "outputId": "fdc5592f-2bbb-497f-839f-3fbf92261b37"
      },
      "source": [
        "sorted_clean_questions = []\n",
        "sorted_clean_answers = []\n",
        "\n",
        "for length in range(1,25+1):\n",
        "  for i in enumerate(questions_to_int):\n",
        "    if len(i[1]) == length:\n",
        "      sorted_clean_questions.append(questions_to_int[i[0]])\n",
        "      sorted_clean_answers.append(answers_to_int[i[0]])\n",
        "\n",
        "print(sorted_clean_questions[0])\n",
        "print(sorted_clean_answers[0])      "
      ],
      "execution_count": 56,
      "outputs": [
        {
          "output_type": "stream",
          "text": [
            "[47]\n",
            "[15, 48, 25, 47, 18, 49, 50, 15, 51, 52, 45, 53, 8541, 54, 52, 55, 41, 56, 18, 57, 58, 59, 60, 61, 8540]\n"
          ],
          "name": "stdout"
        }
      ]
    },
    {
      "cell_type": "markdown",
      "metadata": {
        "id": "CCGtteiQ-99p"
      },
      "source": [
        "# Building seq2seq model"
      ]
    },
    {
      "cell_type": "markdown",
      "metadata": {
        "id": "pjGT3k1h_Bg2"
      },
      "source": [
        "### Creating placeholders for the inputs and the targets"
      ]
    },
    {
      "cell_type": "code",
      "metadata": {
        "id": "gbVr-PtM_JKC"
      },
      "source": [
        "def model_inputs():\n",
        "  inputs = tf.placeholder(tf.int32, [None, None], name = 'inputs')\n",
        "  targets = tf.placeholder(tf.int32, [None, None], name = 'targets')\n",
        "  lr = tf.placeholder(tf.float32, name = 'learning_rate')\n",
        "  keep_prob = tf.placeholder(tf.float32, name = 'keep_prob')\n",
        "\n",
        "  return inputs, targets, lr, keep_prob"
      ],
      "execution_count": 57,
      "outputs": []
    },
    {
      "cell_type": "markdown",
      "metadata": {
        "id": "yRPfM3phKWL-"
      },
      "source": [
        "### Preprocessing the targets"
      ]
    },
    {
      "cell_type": "code",
      "metadata": {
        "id": "gLGS-vmNKbvn"
      },
      "source": [
        "# create batches and add <sos> token at each raw at batch\n",
        "\n",
        "def preprocess_targets(targets, word2int, batch_size):\n",
        "  left_side = tf.fill([batch_size], 1, word2int['<SOS>'])\n",
        "  right_side = tf.strided_slice(targets, [0,0], [batch_size, -1],[1,1])\n",
        "  preprocessed_targets = tf.concat([left_side, right_side], 1)\n",
        "\n",
        "  return preprocessed_targets"
      ],
      "execution_count": 58,
      "outputs": []
    },
    {
      "cell_type": "markdown",
      "metadata": {
        "id": "xh3PFVYScKUu"
      },
      "source": [
        "### Creating the Encoder RNN Layer"
      ]
    },
    {
      "cell_type": "code",
      "metadata": {
        "id": "qnipEjzycNHi"
      },
      "source": [
        "def encoder_rnn_layer(rnn_inputs, rnn_size, num_layers, keep_prob, sequence_length):\n",
        "  #first create LSTM - object of basic lstm cell\n",
        "  lstm = tf.contrib.rnn.BasicLSTMCell(rnn_size)\n",
        "  lstm_dropout = tf.contrib.rnn.DropoutWrapper(lstm, input_keep_prob = keep_prob)\n",
        "  encoder_cell = tf.contrib.rnn.MultiRNNCell([lstm_dropout] * num_layers)\n",
        "  _, encoder_state = tf.nn_bidirectional_dynamic_rnn(cell_fw = encoder_cell, \n",
        "                                                     cell_bw = encoder_cell,\n",
        "                                                     sequence_length = sequence_length,\n",
        "                                                     inputs = rnn_inputs,\n",
        "                                                     dtype = tf.float32) # this will build forward and backward RNNs\n",
        "\n",
        "  return encoder_state"
      ],
      "execution_count": 60,
      "outputs": []
    }
  ]
}