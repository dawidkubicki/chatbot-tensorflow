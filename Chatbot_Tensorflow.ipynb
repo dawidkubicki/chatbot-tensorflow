{
  "nbformat": 4,
  "nbformat_minor": 0,
  "metadata": {
    "colab": {
      "name": "Chatbot-Tensorflow.ipynb",
      "provenance": [],
      "collapsed_sections": [],
      "mount_file_id": "1FVt4q6N5-5gn8olzMdjo7C9pdxlDajY4",
      "authorship_tag": "ABX9TyPdOOiREZvFkGH2gWMp+Ckt",
      "include_colab_link": true
    },
    "kernelspec": {
      "name": "python3",
      "display_name": "Python 3"
    },
    "accelerator": "GPU"
  },
  "cells": [
    {
      "cell_type": "markdown",
      "metadata": {
        "id": "view-in-github",
        "colab_type": "text"
      },
      "source": [
        "<a href=\"https://colab.research.google.com/github/dawidkubicki/chatbot-tensorflow/blob/main/Chatbot_Tensorflow.ipynb\" target=\"_parent\"><img src=\"https://colab.research.google.com/assets/colab-badge.svg\" alt=\"Open In Colab\"/></a>"
      ]
    },
    {
      "cell_type": "markdown",
      "metadata": {
        "id": "iDQdjBRH0DyF"
      },
      "source": [
        "## Connect to the GDrive"
      ]
    },
    {
      "cell_type": "code",
      "metadata": {
        "id": "2-5x6CjK0J0h"
      },
      "source": [
        "#from google.colab import drive\n",
        "#drive.mount('/content/gdrive')"
      ],
      "execution_count": 301,
      "outputs": []
    },
    {
      "cell_type": "markdown",
      "metadata": {
        "id": "qh7NCrf12uaT"
      },
      "source": [
        "## Change root path"
      ]
    },
    {
      "cell_type": "code",
      "metadata": {
        "id": "qdCoLRFz22Ps",
        "colab": {
          "base_uri": "https://localhost:8080/"
        },
        "outputId": "fef10e96-8bfe-46d7-8fda-ae08e140e761"
      },
      "source": [
        "#root_path = '/content/gdrive/My Drive/Colab/'\n",
        "\n",
        "import os \n",
        "\n",
        "# Set your working directory to a folder in your Google Drive. This way, if your notebook times out,\n",
        "# your files will be saved in your Google Drive!\n",
        "\n",
        "# the base Google Drive directory\n",
        "root_dir = \"/content/drive/My Drive/\"\n",
        "\n",
        "# choose where you want your project files to be saved\n",
        "project_folder = \"Colab/\"\n",
        "\n",
        "def create_and_set_working_directory(project_folder):\n",
        "  # check if your project folder exists. if not, it will be created.\n",
        "  if os.path.isdir(root_dir + project_folder) == False:\n",
        "    os.mkdir(root_dir + project_folder)\n",
        "    print(root_dir + project_folder + ' did not exist but was created.')\n",
        "\n",
        "  # change the OS to use your project folder as the working directory\n",
        "  os.chdir(root_dir + project_folder)\n",
        "\n",
        "  # create a test file to make sure it shows up in the right place\n",
        "  !touch 'test_file.txt'\n",
        "  print('\\nYour working directory was changed to ' + root_dir + project_folder + \\\n",
        "        \"\\n\\nAn empty text file was created there. You can also run !pwd to confirm the current working directory.\" )\n",
        "\n",
        "create_and_set_working_directory(project_folder)"
      ],
      "execution_count": 302,
      "outputs": [
        {
          "output_type": "stream",
          "text": [
            "\n",
            "Your working directory was changed to /content/drive/My Drive/Colab/\n",
            "\n",
            "An empty text file was created there. You can also run !pwd to confirm the current working directory.\n"
          ],
          "name": "stdout"
        }
      ]
    },
    {
      "cell_type": "markdown",
      "metadata": {
        "id": "2EMRrqgJjJ4q"
      },
      "source": [
        "## Download dataset\n",
        "\n"
      ]
    },
    {
      "cell_type": "code",
      "metadata": {
        "id": "76qSsEAqhalI"
      },
      "source": [
        "#!wget http://www.cs.cornell.edu/~cristian/data/cornell_movie_dialogs_corpus.zip\n",
        "#!unzip cornell_movie_dialogs_corpus.zip"
      ],
      "execution_count": 303,
      "outputs": []
    },
    {
      "cell_type": "markdown",
      "metadata": {
        "id": "HGFphkRN1YTj"
      },
      "source": [
        "## Firstly import all necessaries libraries\n"
      ]
    },
    {
      "cell_type": "code",
      "metadata": {
        "id": "jHaxt9ACj8Pu"
      },
      "source": [
        "import numpy as np\n",
        "#import tensorflow as tf\n",
        "import tensorflow.compat.v1 as tf\n",
        "tf.disable_v2_behavior()\n",
        "import re\n",
        "import time\n",
        "from tensorflow.python.compiler.tensorrt import trt_convert as trt"
      ],
      "execution_count": 304,
      "outputs": []
    },
    {
      "cell_type": "markdown",
      "metadata": {
        "id": "wqTZ9k5J_MtF"
      },
      "source": [
        "# Preprocessing"
      ]
    },
    {
      "cell_type": "markdown",
      "metadata": {
        "id": "tTMV0Dkg1ixi"
      },
      "source": [
        "## Import dataset to the project"
      ]
    },
    {
      "cell_type": "code",
      "metadata": {
        "id": "Xj05XpBR1if6"
      },
      "source": [
        "lines = open('dataset/movie_lines.txt', encoding='utf-8', errors='ignore').read().split('\\n')\n",
        "conversations = open('dataset/movie_conversations.txt', encoding='utf-8', errors='ignore').read().split('\\n')"
      ],
      "execution_count": 305,
      "outputs": []
    },
    {
      "cell_type": "markdown",
      "metadata": {
        "id": "m5hAzR-5-Omc"
      },
      "source": [
        "## Create a dictionary that maps each line and it's ID"
      ]
    },
    {
      "cell_type": "code",
      "metadata": {
        "id": "r8BZXY-i-hqF"
      },
      "source": [
        "id2line = {} #init dictionary\n",
        "for line in lines:\n",
        "  _line = line.split(' +++$+++ ')\n",
        "  if len(_line) == 5:\n",
        "    id2line[_line[0]] = _line[4]\n",
        "\n",
        "# JUST TO CHECK DATA IN GOOGLE COLAB\n",
        "# retrieve key/value pairs\n",
        "#els = list(id2line.items()) # explicitly convert to a list, in case it's Python 3.x\n",
        "\n",
        "# get first inserted element \n",
        "#print(els[0])\n",
        "\n"
      ],
      "execution_count": 306,
      "outputs": []
    },
    {
      "cell_type": "markdown",
      "metadata": {
        "id": "ko8sKZMvy-pG"
      },
      "source": [
        "## Create a list of all of the conversations"
      ]
    },
    {
      "cell_type": "code",
      "metadata": {
        "id": "sYfmpvmlzcXo"
      },
      "source": [
        "conversations_ids = []\n",
        "for conversation in conversations[:-1]:\n",
        "  _conversation = conversation.split(\" +++$+++ \")[-1][1:-1].replace(\"'\",\"\").replace(\" \",\"\")\n",
        "  conversations_ids.append(_conversation.split(\",\"))\n",
        "#print(conversations_ids[0])\n",
        "#print(conversations_ids[0])"
      ],
      "execution_count": 307,
      "outputs": []
    },
    {
      "cell_type": "markdown",
      "metadata": {
        "id": "GS44lfRiqDdn"
      },
      "source": [
        "## Getting separately the questions and the answers"
      ]
    },
    {
      "cell_type": "code",
      "metadata": {
        "id": "8Ilw9YaNqRma"
      },
      "source": [
        "questions = []\n",
        "answers = []\n",
        "for conversation in conversations_ids:\n",
        "  for i in range(len(conversation) - 1):\n",
        "    questions.append(id2line[conversation[i]])\n",
        "    answers.append(id2line[conversation[i+1]])\n",
        "\n",
        "#print(questions[0])\n",
        "#print(answers[0])\n"
      ],
      "execution_count": 308,
      "outputs": []
    },
    {
      "cell_type": "markdown",
      "metadata": {
        "id": "DKqx7_pWeK3q"
      },
      "source": [
        "### Cleaning text function define"
      ]
    },
    {
      "cell_type": "code",
      "metadata": {
        "id": "FSx2d9UBeNLn"
      },
      "source": [
        "def clean_text(text):\n",
        "  #put all the text to lowercase\n",
        "  text = text.lower()\n",
        "  #removing aposthrophies with re library\n",
        "  text = re.sub(r\"i'm\", \"i am\", text)\n",
        "  text = re.sub(r\"he's\", \"he is\", text)\n",
        "  text = re.sub(r\"she's\", \"she is\", text)\n",
        "  text = re.sub(r\"that's\", \"that is\", text)\n",
        "  text = re.sub(r\"what's\", \"what is\", text)\n",
        "  text = re.sub(r\"where's\", \"where is\", text)\n",
        "  text = re.sub(r\"\\'ll\", \" will\", text)\n",
        "  text = re.sub(r\"\\'ve\", \" have\", text)\n",
        "  text = re.sub(r\"\\'re\", \" are\", text)\n",
        "  text = re.sub(r\"\\'d\", \" whould\", text)\n",
        "  text = re.sub(r\"won't\", \"will not\", text)\n",
        "  text = re.sub(r\"can't\", \"cannot\", text)\n",
        "  text = re.sub(r\"[-()\\\"#/@;:<>{}+=~|.?,]\", \"\", text)\n",
        "  return text"
      ],
      "execution_count": 309,
      "outputs": []
    },
    {
      "cell_type": "markdown",
      "metadata": {
        "id": "jEobb9UngllY"
      },
      "source": [
        "### Cleaning questions and answers"
      ]
    },
    {
      "cell_type": "code",
      "metadata": {
        "id": "tsf29AjKgnvo"
      },
      "source": [
        "clean_questions = []\n",
        "clean_answers = []\n",
        "\n",
        "for question in questions:\n",
        "  clean_questions.append(clean_text(question))\n",
        "\n",
        "for answer in answers:\n",
        "  clean_answers.append(clean_text(answer))  "
      ],
      "execution_count": 310,
      "outputs": []
    },
    {
      "cell_type": "markdown",
      "metadata": {
        "id": "IB_ZJZvPia30"
      },
      "source": [
        "### Creating a dictionary that maps each word to it's number of occurencies\n"
      ]
    },
    {
      "cell_type": "code",
      "metadata": {
        "id": "shqJNpq9imFY"
      },
      "source": [
        "word2count = {}\n",
        "\n",
        "for question in clean_questions:\n",
        "  for word in question.split():\n",
        "    if word not in word2count:\n",
        "      word2count[word] = 1\n",
        "    else:\n",
        "      word2count[word] += 1\n",
        "\n",
        "for answer in clean_answers:\n",
        "  for word in answer.split():\n",
        "    if word not in word2count:\n",
        "      word2count[word] = 1\n",
        "    else:\n",
        "      word2count[word] += 1      "
      ],
      "execution_count": 311,
      "outputs": []
    },
    {
      "cell_type": "markdown",
      "metadata": {
        "id": "DiZz22lx7zvG"
      },
      "source": [
        "### Creating two dictionaries that map the questions words and the answers words to a unique integer"
      ]
    },
    {
      "cell_type": "code",
      "metadata": {
        "id": "jsXgppaA8Dtq"
      },
      "source": [
        "threshold = 20\n",
        "questionwords2int = {}\n",
        "word_number = 0 \n",
        "for word, count in word2count.items():\n",
        "  if count > threshold:\n",
        "    questionwords2int[word] = word_number\n",
        "    word_number += 1\n",
        "\n",
        "answerwords2int = {}\n",
        "word_number = 0 \n",
        "for word, count in word2count.items():\n",
        "  if count > threshold:\n",
        "    answerwords2int[word] = word_number\n",
        "    word_number += 1\n",
        "\n",
        "# print(answerwords2int.items())"
      ],
      "execution_count": 312,
      "outputs": []
    },
    {
      "cell_type": "markdown",
      "metadata": {
        "id": "tBqe2m_CAOlY"
      },
      "source": [
        "### Adding the last tokens to these two dictionaries"
      ]
    },
    {
      "cell_type": "code",
      "metadata": {
        "id": "TJWLCvCDAT0i"
      },
      "source": [
        "tokens = ['<PAD>', '<EOS>', '<OUT>', '<SOS>']\n",
        "for token in tokens:\n",
        "  questionwords2int[token] = len(questionwords2int) + 1\n",
        "\n",
        "for token in tokens:\n",
        "  answerwords2int[token] = len(answerwords2int) + 1\n",
        "#print(answerwords2int.items())  "
      ],
      "execution_count": 313,
      "outputs": []
    },
    {
      "cell_type": "markdown",
      "metadata": {
        "id": "AE7MRt-aNMOJ"
      },
      "source": [
        "### Create an inverse dictionary of the answerwords2int dictionary"
      ]
    },
    {
      "cell_type": "code",
      "metadata": {
        "id": "MtZiJlFwNT_D"
      },
      "source": [
        "answerint2word = {w_i: w for w, w_i in answerwords2int.items()}"
      ],
      "execution_count": 314,
      "outputs": []
    },
    {
      "cell_type": "markdown",
      "metadata": {
        "id": "uFqPGyF2OjmQ"
      },
      "source": [
        "### Adding the EOS token to the end of every answer"
      ]
    },
    {
      "cell_type": "code",
      "metadata": {
        "id": "qwxtyKGbOp4P"
      },
      "source": [
        "for i in range(len(clean_answers)):\n",
        "  clean_answers[i] += ' <EOS>'"
      ],
      "execution_count": 315,
      "outputs": []
    },
    {
      "cell_type": "markdown",
      "metadata": {
        "id": "qAHxGhdiRSA9"
      },
      "source": [
        "### Translating all the questions and the answers into integers and replacing all the words that were filtered out by <OUT>"
      ]
    },
    {
      "cell_type": "code",
      "metadata": {
        "id": "VsZN_MjbRiul",
        "colab": {
          "base_uri": "https://localhost:8080/"
        },
        "outputId": "8ddd0345-40f3-4780-fe36-d0fdea30fbe1"
      },
      "source": [
        "questions_to_int = []\n",
        "for question in clean_questions:\n",
        "  ints = []\n",
        "  for word in question.split():\n",
        "    if word not in questionwords2int:\n",
        "      ints.append(questionwords2int['<OUT>'])\n",
        "    else:\n",
        "      ints.append(questionwords2int[word])\n",
        "  questions_to_int.append(ints)\n",
        "\n",
        "print(questions_to_int[0])\n",
        "\n",
        "answers_to_int = []\n",
        "for answer in clean_answers:\n",
        "  ints = []\n",
        "  for word in answer.split():\n",
        "    if word not in answerwords2int:\n",
        "      ints.append(answerwords2int['<OUT>'])\n",
        "    else:\n",
        "      ints.append(answerwords2int[word])\n",
        "  answers_to_int.append(ints)"
      ],
      "execution_count": 316,
      "outputs": [
        {
          "output_type": "stream",
          "text": [
            "[0, 1, 2, 3, 4, 8541, 8541, 5, 6, 8541, 7, 8, 9, 10, 8541, 11, 12, 13, 14, 15, 8541, 16]\n"
          ],
          "name": "stdout"
        }
      ]
    },
    {
      "cell_type": "markdown",
      "metadata": {
        "id": "_2cliE3hKQwF"
      },
      "source": [
        "### Sorting questions and answers by the length of questions (this will speed up the training)"
      ]
    },
    {
      "cell_type": "code",
      "metadata": {
        "colab": {
          "base_uri": "https://localhost:8080/"
        },
        "id": "xSTS78C5Ka0Y",
        "outputId": "f04063dc-6ed3-418c-f61f-dc550f789786"
      },
      "source": [
        "sorted_clean_questions = []\n",
        "sorted_clean_answers = []\n",
        "\n",
        "for length in range(1,25+1):\n",
        "  for i in enumerate(questions_to_int):\n",
        "    if len(i[1]) == length:\n",
        "      sorted_clean_questions.append(questions_to_int[i[0]])\n",
        "      sorted_clean_answers.append(answers_to_int[i[0]])\n",
        "\n",
        "print(sorted_clean_questions[0])\n",
        "print(sorted_clean_answers[0])      "
      ],
      "execution_count": 317,
      "outputs": [
        {
          "output_type": "stream",
          "text": [
            "[47]\n",
            "[15, 48, 25, 47, 18, 49, 50, 15, 51, 52, 45, 53, 8541, 54, 52, 55, 41, 56, 18, 57, 58, 59, 60, 61, 8540]\n"
          ],
          "name": "stdout"
        }
      ]
    },
    {
      "cell_type": "markdown",
      "metadata": {
        "id": "CCGtteiQ-99p"
      },
      "source": [
        "# Building seq2seq model"
      ]
    },
    {
      "cell_type": "markdown",
      "metadata": {
        "id": "pjGT3k1h_Bg2"
      },
      "source": [
        "### Creating placeholders for the inputs and the targets"
      ]
    },
    {
      "cell_type": "code",
      "metadata": {
        "id": "gbVr-PtM_JKC"
      },
      "source": [
        "def model_inputs():\n",
        "  inputs = tf.compat.v1.placeholder(tf.int32, [None, None], name = 'inputs')\n",
        "  targets = tf.compat.v1.placeholder(tf.int32, [None, None], name = 'targets')\n",
        "  lr = tf.compat.v1.placeholder(tf.float32, name = 'learning_rate')\n",
        "  keep_prob = tf.compat.v1.placeholder(tf.float32, name = 'keep_prob')\n",
        "\n",
        "  return inputs, targets, lr, keep_prob"
      ],
      "execution_count": 318,
      "outputs": []
    },
    {
      "cell_type": "markdown",
      "metadata": {
        "id": "yRPfM3phKWL-"
      },
      "source": [
        "### Preprocessing the targets"
      ]
    },
    {
      "cell_type": "code",
      "metadata": {
        "id": "gLGS-vmNKbvn"
      },
      "source": [
        "# create batches and add <sos> token at each raw at batch\n",
        "\n",
        "def preprocess_targets(targets, word2int, batch_size):\n",
        "  left_side = tf.fill([batch_size], 1, word2int['<SOS>'])\n",
        "  right_side = tf.strided_slice(targets, [0,0], [batch_size, -1],[1,1])\n",
        "  preprocessed_targets = tf.concat([left_side, right_side], 1)\n",
        "\n",
        "  return preprocessed_targets"
      ],
      "execution_count": 319,
      "outputs": []
    },
    {
      "cell_type": "markdown",
      "metadata": {
        "id": "xh3PFVYScKUu"
      },
      "source": [
        "### Creating the Encoder RNN Layer"
      ]
    },
    {
      "cell_type": "code",
      "metadata": {
        "id": "qnipEjzycNHi"
      },
      "source": [
        "def encoder_rnn(rnn_inputs, rnn_size, num_layers, keep_prob, sequence_length):\n",
        "  #first create LSTM - object of basic lstm cell\n",
        "  lstm = tf.contrib.rnn.BasicLSTMCell(rnn_size)\n",
        "  lstm_dropout = tf.contrib.rnn.DropoutWrapper(lstm, input_keep_prob = keep_prob)\n",
        "  encoder_cell = tf.contrib.rnn.MultiRNNCell([lstm_dropout] * num_layers)\n",
        "  encoder_output, encoder_state = tf.nn_bidirectional_dynamic_rnn(cell_fw = encoder_cell, \n",
        "                                                     cell_bw = encoder_cell,\n",
        "                                                     sequence_length = sequence_length,\n",
        "                                                     inputs = rnn_inputs,\n",
        "                                                     dtype = tf.float32) # this will build forward and backward RNNs\n",
        "\n",
        "  return encoder_state"
      ],
      "execution_count": 320,
      "outputs": []
    },
    {
      "cell_type": "markdown",
      "metadata": {
        "id": "8hPR0k5_j0_M"
      },
      "source": [
        "### Creating the Decoder of the training set"
      ]
    },
    {
      "cell_type": "code",
      "metadata": {
        "id": "fpfdWKiOj6Lw"
      },
      "source": [
        "def decode_training_set(encoder_state, decoder_cell, decoder_embedded_input, sequence_length, decoding_scope, output_function, keep_prob, batch_size):\n",
        "  attention_state = tf.zeros([batch_size, 1, decoder_cell.output_size])\n",
        "  attention_keys, attention_values, attention_score_function, attention_construct_function = tf.contrib.seq2seq.prepare_attention(attention_state, attention_option = \"bahdanau\", num_units = decoder_cell.output_size) \n",
        "  training_decoder_function = tf.contrib.seq2seq.attention_decoder_fn_train(encoder_state[0],\n",
        "                                                                            attention_keys,\n",
        "                                                                            attention_values,\n",
        "                                                                            attention_score_function,\n",
        "                                                                            attention_construct_function,\n",
        "                                                                            name = \"attn_dec_train\")\n",
        "  \n",
        "  decoder_output, decoder_final_state, decoder_final_context_state = tf.contrib.seq2seq.dynamic_rnn_function(decoder_cell, \n",
        "                                                                                                             training_decoder_function,\n",
        "                                                                                                             decoder_embedded_input,\n",
        "                                                                                                             sequence_length,\n",
        "                                                                                                             scope = decoding_scope)\n",
        "  \n",
        "  decoder_output_dropout = tf.nn.dropout(decoder_output, keep_prob)\n",
        "  return output_function(decoder_output_dropout)"
      ],
      "execution_count": 321,
      "outputs": []
    },
    {
      "cell_type": "markdown",
      "metadata": {
        "id": "9Yj5q6ONpxlI"
      },
      "source": [
        "### Decoding the test/validation set"
      ]
    },
    {
      "cell_type": "code",
      "metadata": {
        "id": "TVTQG5nMp2Sk"
      },
      "source": [
        "def decode_test_set(encoder_state, decoder_cell, decoder_embeddings_matrix, sos_id, eos_id, maximum_length, num_words, sequence_length, decoding_scope, output_function, keep_prob, batch_size):\n",
        "  attention_state = tf.zeros([batch_size, 1, decoder_cell.output_size])\n",
        "  attention_keys, attention_values, attention_score_function, attention_construct_function = tf.contrib.seq2seq.prepare_attention(attention_state, attention_option = \"bahdanau\", num_units = decoder_cell.output_size) \n",
        "  test_decoder_function = tf.contrib.seq2seq.attention_decoder_fn_inference(output_function,\n",
        "                                                                            encoder_state[0],\n",
        "                                                                            attention_keys,\n",
        "                                                                            attention_values,\n",
        "                                                                            attention_score_function,\n",
        "                                                                            attention_construct_function,\n",
        "                                                                            decoder_embeddings_matrix, \n",
        "                                                                            sos_id,\n",
        "                                                                            eos_id,\n",
        "                                                                            maximum_length,\n",
        "                                                                            num_words,\n",
        "                                                                            name = \"attn_dec_inf\")\n",
        "  \n",
        "  test_predictions, decoder_final_state, decoder_final_context_state = tf.contrib.seq2seq.dynamic_rnn_function(decoder_cell, \n",
        "                                                                                                              test_decoder_function,                                                                                                   \n",
        "                                                                                                              scope = decoding_scope)\n",
        "  \n",
        "  return test_predictions"
      ],
      "execution_count": 322,
      "outputs": []
    },
    {
      "cell_type": "markdown",
      "metadata": {
        "id": "bFAzu_Sx7odd"
      },
      "source": [
        "### Creating the Doceder RNN"
      ]
    },
    {
      "cell_type": "code",
      "metadata": {
        "id": "2ZBNCD_87rSe"
      },
      "source": [
        "def decoder_rnn(decoder_embedded_inputs, decoder_embeddings_matrix, encoder_state, num_words, sequence_length, rnn_size, num_layers, word2int, keep_prob, batch_size):\n",
        "  with tf.variable_scope(\"decoding\") as decoding_scope:\n",
        "    lstm = tf.contrib.rnn.BasicLSTMCell(rnn_size)\n",
        "    lstm_dropout = tf.contrib.rnn.DropoutWrapper(lstm, input_keep_prob = keep_prob)\n",
        "    decoder_cell = tf.contrib.rnn.MultiRNNCell([lstm_dropout] * num_layers)\n",
        "    weights = tf.truncated_normal_initializer(stddev = 0.1)\n",
        "    biases = tf.zeros_initializer()\n",
        "    output_function = lambda x: tf.contrib.layers.fully_connected(x,\n",
        "                                                                  num_words,\n",
        "                                                                  None,\n",
        "                                                                  scope = decoding_scope,\n",
        "                                                                  weights_initializer = weights,\n",
        "                                                                  biases_initializer = biases)\n",
        "    training_predictions = decoode_training_set(encoder_state,\n",
        "                                                decoder_cell,\n",
        "                                                decoder_embedded_input,\n",
        "                                                sequence_lentgh,\n",
        "                                                decoding_scope,\n",
        "                                                output_function,\n",
        "                                                keep_prob,\n",
        "                                                batch_size)\n",
        "    decoding_scope.reuse_variables()\n",
        "    test_predictions = decode_test_set(encoder_state,\n",
        "                                       decoder_cell,\n",
        "                                       decoder_embeddings_matrix,\n",
        "                                       word2int['<SOS>'],\n",
        "                                       word2int['<EOS>'],\n",
        "                                       sequence_length-1,\n",
        "                                       num_words,\n",
        "                                       decoding_scope,\n",
        "                                       output_function,\n",
        "                                       keep_prob,\n",
        "                                       batch_size)\n",
        "    \n",
        "  return training_predictions, test_predictions"
      ],
      "execution_count": 323,
      "outputs": []
    },
    {
      "cell_type": "markdown",
      "metadata": {
        "id": "CqgdscqHLY3_"
      },
      "source": [
        "### Building seq2seq"
      ]
    },
    {
      "cell_type": "code",
      "metadata": {
        "id": "KHGTAtvTLbjJ"
      },
      "source": [
        "def seq2seq_model(inputs, targets, keep_prob, batch_size, sequence_length, answers_num_words, questions_num_words, encoder_embedding_size, decoder_embedding_size, rnn_size, num_layers, questionswords2int):\n",
        "  encoder_embedded_input = tf.contrib.layers.embed_sequence(inputs, \n",
        "                                                            answers_num_words + 1,\n",
        "                                                            encoder_embedding_size,\n",
        "                                                            initializer = tf.random_uniform_initializer(0,1)\n",
        "                                                            )\n",
        "  #ouput of encoder and input of decoder\n",
        "  encoder_state = encoder_rnn(encoder_embedded_input, rnn_size, num_layers, keep_prob, sequence_length)\n",
        "  preprocessed_targets = preprocess_targets(targets, questionswords2int, batch_size)\n",
        "  decoder_embeddings_matrix = tf.Variable(tf.random_uniform([questions_num_words + 1, decoder_embedding_size], 0, 1))\n",
        "  decoder_embedded_inputs = tf.nn.embeddeding_lookup(decoder_embeddings_matrix, preprocessed_targets)\n",
        "  training_predictions, test_predictions = decoder_rnn(decoder_embedded_input,\n",
        "                                                       decoder_embeddings_matrix,\n",
        "                                                       encoder_state,\n",
        "                                                       questions_num_words,\n",
        "                                                       sequence_length,\n",
        "                                                       rnn_size,\n",
        "                                                       num_layers,\n",
        "                                                       questions2wordsint,\n",
        "                                                       keep_prob,\n",
        "                                                       batch_size)\n",
        "  \n",
        "  return training_predictions, test_prediciotns"
      ],
      "execution_count": 324,
      "outputs": []
    },
    {
      "cell_type": "markdown",
      "metadata": {
        "id": "Pvvac4P1A1OS"
      },
      "source": [
        "### Setting the Hyperparameters"
      ]
    },
    {
      "cell_type": "code",
      "metadata": {
        "id": "eyKHJWIoA4G7"
      },
      "source": [
        "epochs = 100\n",
        "batch_size = 64\n",
        "rnn_size = 512\n",
        "num_layers = 3\n",
        "encoding_embedding_size = 512 #512 columns \n",
        "decoding_embedding_size = 512 #512 columns \n",
        "learning_rate = 0.01\n",
        "learning_rate_dacay = 0.9 #which percentage the learning rate is reduce over the iteration of training\n",
        "min_learning_rate = 0.0001\n",
        "keep_probability = 0.5"
      ],
      "execution_count": 325,
      "outputs": []
    },
    {
      "cell_type": "markdown",
      "metadata": {
        "id": "4HtlOiFAF4Vm"
      },
      "source": [
        "### Defining a session (tensorflow)"
      ]
    },
    {
      "cell_type": "code",
      "metadata": {
        "colab": {
          "base_uri": "https://localhost:8080/"
        },
        "id": "qEvRULWIF8_R",
        "outputId": "ba353067-93a2-4caf-bd91-ec808bd9ab2e"
      },
      "source": [
        "tf.compat.v1.reset_default_graph()\n",
        "session = tf.compat.v1.InteractiveSession()"
      ],
      "execution_count": 326,
      "outputs": [
        {
          "output_type": "stream",
          "text": [
            "/usr/local/lib/python3.6/dist-packages/tensorflow/python/client/session.py:1751: UserWarning: An interactive session is already active. This can cause out-of-memory errors in some cases. You must explicitly call `InteractiveSession.close()` to release resources held by the other session(s).\n",
            "  warnings.warn('An interactive session is already active. This can '\n"
          ],
          "name": "stderr"
        }
      ]
    },
    {
      "cell_type": "markdown",
      "metadata": {
        "id": "SPkCutwOG9E_"
      },
      "source": [
        "### Loading the model inputs"
      ]
    },
    {
      "cell_type": "code",
      "metadata": {
        "id": "c4JWFeWYHGv7"
      },
      "source": [
        "inputs, targets, lr, keep_prob = model_inputs()"
      ],
      "execution_count": 327,
      "outputs": []
    },
    {
      "cell_type": "markdown",
      "metadata": {
        "id": "OsKuzFg8HoPA"
      },
      "source": [
        "### Seeting the sequence length"
      ]
    },
    {
      "cell_type": "code",
      "metadata": {
        "id": "dHv8jMwVHqs5"
      },
      "source": [
        "sequence_length = tf.compat.v1.placeholder_with_default(25, None, name = 'sequence_length')"
      ],
      "execution_count": 328,
      "outputs": []
    },
    {
      "cell_type": "markdown",
      "metadata": {
        "id": "r1IGWTw2IX76"
      },
      "source": [
        "### Getting the shape of the inputs tensor"
      ]
    },
    {
      "cell_type": "code",
      "metadata": {
        "colab": {
          "base_uri": "https://localhost:8080/"
        },
        "id": "n9u-Fc8kIa6e",
        "outputId": "e157d2b1-807e-4527-d15f-2a2b4543cdab"
      },
      "source": [
        "input_shape = tf.shape(inputs)\n",
        "print(input_shape)"
      ],
      "execution_count": 329,
      "outputs": [
        {
          "output_type": "stream",
          "text": [
            "Tensor(\"Shape:0\", shape=(2,), dtype=int32)\n"
          ],
          "name": "stdout"
        }
      ]
    },
    {
      "cell_type": "markdown",
      "metadata": {
        "id": "DXMuh1JuI-_S"
      },
      "source": [
        "### Getting the training and test predictions"
      ]
    },
    {
      "cell_type": "code",
      "metadata": {
        "colab": {
          "base_uri": "https://localhost:8080/",
          "height": 351
        },
        "id": "AT9Op_QcJDZ1",
        "outputId": "c6059275-c225-4eaa-89e4-61cb580b8dfa"
      },
      "source": [
        "training_predictions, test_predictions = seq2seq_model(tf.reverse(inputs, [-1]),\n",
        "                                                       targets,\n",
        "                                                       keep_prob,\n",
        "                                                       batch_size,\n",
        "                                                       sequence_length,\n",
        "                                                       len(answerwords2int),\n",
        "                                                       len(questionwords2int),\n",
        "                                                       encoding_embedding_size,\n",
        "                                                       decoding_embedding_size,\n",
        "                                                       rnn_size,\n",
        "                                                       num_layers,\n",
        "                                                       questionwords2int)"
      ],
      "execution_count": 330,
      "outputs": [
        {
          "output_type": "error",
          "ename": "AttributeError",
          "evalue": "ignored",
          "traceback": [
            "\u001b[0;31m---------------------------------------------------------------------------\u001b[0m",
            "\u001b[0;31mAttributeError\u001b[0m                            Traceback (most recent call last)",
            "\u001b[0;32m<ipython-input-330-4e06bff9848e>\u001b[0m in \u001b[0;36m<module>\u001b[0;34m()\u001b[0m\n\u001b[1;32m     10\u001b[0m                                                        \u001b[0mrnn_size\u001b[0m\u001b[0;34m,\u001b[0m\u001b[0;34m\u001b[0m\u001b[0;34m\u001b[0m\u001b[0m\n\u001b[1;32m     11\u001b[0m                                                        \u001b[0mnum_layers\u001b[0m\u001b[0;34m,\u001b[0m\u001b[0;34m\u001b[0m\u001b[0;34m\u001b[0m\u001b[0m\n\u001b[0;32m---> 12\u001b[0;31m                                                        questionwords2int)\n\u001b[0m",
            "\u001b[0;32m<ipython-input-324-c8f4394d9998>\u001b[0m in \u001b[0;36mseq2seq_model\u001b[0;34m(inputs, targets, keep_prob, batch_size, sequence_length, answers_num_words, questions_num_words, encoder_embedding_size, decoder_embedding_size, rnn_size, num_layers, questionswords2int)\u001b[0m\n\u001b[1;32m      1\u001b[0m \u001b[0;32mdef\u001b[0m \u001b[0mseq2seq_model\u001b[0m\u001b[0;34m(\u001b[0m\u001b[0minputs\u001b[0m\u001b[0;34m,\u001b[0m \u001b[0mtargets\u001b[0m\u001b[0;34m,\u001b[0m \u001b[0mkeep_prob\u001b[0m\u001b[0;34m,\u001b[0m \u001b[0mbatch_size\u001b[0m\u001b[0;34m,\u001b[0m \u001b[0msequence_length\u001b[0m\u001b[0;34m,\u001b[0m \u001b[0manswers_num_words\u001b[0m\u001b[0;34m,\u001b[0m \u001b[0mquestions_num_words\u001b[0m\u001b[0;34m,\u001b[0m \u001b[0mencoder_embedding_size\u001b[0m\u001b[0;34m,\u001b[0m \u001b[0mdecoder_embedding_size\u001b[0m\u001b[0;34m,\u001b[0m \u001b[0mrnn_size\u001b[0m\u001b[0;34m,\u001b[0m \u001b[0mnum_layers\u001b[0m\u001b[0;34m,\u001b[0m \u001b[0mquestionswords2int\u001b[0m\u001b[0;34m)\u001b[0m\u001b[0;34m:\u001b[0m\u001b[0;34m\u001b[0m\u001b[0;34m\u001b[0m\u001b[0m\n\u001b[0;32m----> 2\u001b[0;31m   encoder_embedded_input = tf.contrib.layers.embed_sequence(inputs, \n\u001b[0m\u001b[1;32m      3\u001b[0m                                                             \u001b[0manswers_num_words\u001b[0m \u001b[0;34m+\u001b[0m \u001b[0;36m1\u001b[0m\u001b[0;34m,\u001b[0m\u001b[0;34m\u001b[0m\u001b[0;34m\u001b[0m\u001b[0m\n\u001b[1;32m      4\u001b[0m                                                             \u001b[0mencoder_embedding_size\u001b[0m\u001b[0;34m,\u001b[0m\u001b[0;34m\u001b[0m\u001b[0;34m\u001b[0m\u001b[0m\n\u001b[1;32m      5\u001b[0m                                                             \u001b[0minitializer\u001b[0m \u001b[0;34m=\u001b[0m \u001b[0mtf\u001b[0m\u001b[0;34m.\u001b[0m\u001b[0mrandom_uniform_initializer\u001b[0m\u001b[0;34m(\u001b[0m\u001b[0;36m0\u001b[0m\u001b[0;34m,\u001b[0m\u001b[0;36m1\u001b[0m\u001b[0;34m)\u001b[0m\u001b[0;34m\u001b[0m\u001b[0;34m\u001b[0m\u001b[0m\n",
            "\u001b[0;31mAttributeError\u001b[0m: module 'tensorflow.compat.v1' has no attribute 'contrib'"
          ]
        }
      ]
    }
  ]
}