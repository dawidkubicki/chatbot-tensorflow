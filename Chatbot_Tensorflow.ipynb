{
  "nbformat": 4,
  "nbformat_minor": 0,
  "metadata": {
    "colab": {
      "name": "Chatbot-Tensorflow.ipynb",
      "provenance": [],
      "collapsed_sections": [],
      "authorship_tag": "ABX9TyOU0GlsBfnTWtX+XnDcy5GR",
      "include_colab_link": true
    },
    "kernelspec": {
      "name": "python3",
      "display_name": "Python 3"
    }
  },
  "cells": [
    {
      "cell_type": "markdown",
      "metadata": {
        "id": "view-in-github",
        "colab_type": "text"
      },
      "source": [
        "<a href=\"https://colab.research.google.com/github/dawidkubicki/chatbot-tensorflow/blob/main/Chatbot_Tensorflow.ipynb\" target=\"_parent\"><img src=\"https://colab.research.google.com/assets/colab-badge.svg\" alt=\"Open In Colab\"/></a>"
      ]
    },
    {
      "cell_type": "markdown",
      "metadata": {
        "id": "2EMRrqgJjJ4q"
      },
      "source": [
        "## Download dataset\n",
        "\n"
      ]
    },
    {
      "cell_type": "code",
      "metadata": {
        "id": "76qSsEAqhalI"
      },
      "source": [
        "!wget http://www.cs.cornell.edu/~cristian/data/cornell_movie_dialogs_corpus.zip\n",
        "!unzip cornell_movie_dialogs_corpus.zip"
      ],
      "execution_count": null,
      "outputs": []
    },
    {
      "cell_type": "markdown",
      "metadata": {
        "id": "HGFphkRN1YTj"
      },
      "source": [
        "## Firstly import all necessaries libraries\n"
      ]
    },
    {
      "cell_type": "code",
      "metadata": {
        "id": "jHaxt9ACj8Pu"
      },
      "source": [
        "import numpy as np\n",
        "import tensorflow as tf\n",
        "import re\n",
        "import time"
      ],
      "execution_count": null,
      "outputs": []
    },
    {
      "cell_type": "markdown",
      "metadata": {
        "id": "tTMV0Dkg1ixi"
      },
      "source": [
        "## Import dataset to the project"
      ]
    },
    {
      "cell_type": "code",
      "metadata": {
        "id": "Xj05XpBR1if6"
      },
      "source": [
        "lines = open('dataset/movie_lines.txt', encoding='utf-8', errors='ignore').read().split('\\n')\n",
        "conversations = open('dataset/movie_conversations.txt', encoding='utf-8', errors='ignore').read().split('\\n')"
      ],
      "execution_count": null,
      "outputs": []
    },
    {
      "cell_type": "markdown",
      "metadata": {
        "id": "m5hAzR-5-Omc"
      },
      "source": [
        "## Create a dictionary that maps each line and it's ID"
      ]
    },
    {
      "cell_type": "code",
      "metadata": {
        "id": "r8BZXY-i-hqF",
        "outputId": "b679455d-5800-4502-b307-1af0674af701",
        "colab": {
          "base_uri": "https://localhost:8080/"
        }
      },
      "source": [
        "id2line = {} #init dictionary\n",
        "for line in lines:\n",
        "  _line = line.split(' +++$+++ ')\n",
        "  if len(_line) == 5:\n",
        "    id2line[_line[0]] = _line[4]\n",
        "\n",
        "# JUST TO CHECK DATA IN GOOGLE COLAB\n",
        "# retrieve key/value pairs\n",
        "#els = list(id2line.items()) # explicitly convert to a list, in case it's Python 3.x\n",
        "\n",
        "# get first inserted element \n",
        "#print(els[0])\n",
        "\n"
      ],
      "execution_count": null,
      "outputs": [
        {
          "output_type": "stream",
          "text": [
            "('L1045', 'They do not!')\n"
          ],
          "name": "stdout"
        }
      ]
    }
  ]
}