{
  "nbformat": 4,
  "nbformat_minor": 0,
  "metadata": {
    "colab": {
      "name": "Chatbot-Tensorflow.ipynb",
      "provenance": [],
      "collapsed_sections": [],
      "mount_file_id": "1FVt4q6N5-5gn8olzMdjo7C9pdxlDajY4",
      "authorship_tag": "ABX9TyP011nicBxdov/uhV8XgOC8",
      "include_colab_link": true
    },
    "kernelspec": {
      "name": "python3",
      "display_name": "Python 3"
    }
  },
  "cells": [
    {
      "cell_type": "markdown",
      "metadata": {
        "id": "view-in-github",
        "colab_type": "text"
      },
      "source": [
        "<a href=\"https://colab.research.google.com/github/dawidkubicki/chatbot-tensorflow/blob/main/Chatbot_Tensorflow.ipynb\" target=\"_parent\"><img src=\"https://colab.research.google.com/assets/colab-badge.svg\" alt=\"Open In Colab\"/></a>"
      ]
    },
    {
      "cell_type": "markdown",
      "metadata": {
        "id": "iDQdjBRH0DyF"
      },
      "source": [
        "## Connect to the GDrive"
      ]
    },
    {
      "cell_type": "code",
      "metadata": {
        "id": "2-5x6CjK0J0h",
        "colab": {
          "base_uri": "https://localhost:8080/"
        },
        "outputId": "9bcaa548-477d-48f2-df0a-da8f8d63f0e0"
      },
      "source": [
        "from google.colab import drive\n",
        "drive.mount('/content/gdrive')"
      ],
      "execution_count": null,
      "outputs": [
        {
          "output_type": "stream",
          "text": [
            "Mounted at /content/gdrive\n"
          ],
          "name": "stdout"
        }
      ]
    },
    {
      "cell_type": "markdown",
      "metadata": {
        "id": "qh7NCrf12uaT"
      },
      "source": [
        "## Change root path"
      ]
    },
    {
      "cell_type": "code",
      "metadata": {
        "id": "qdCoLRFz22Ps",
        "colab": {
          "base_uri": "https://localhost:8080/"
        },
        "outputId": "8970bc72-8acb-4b84-89c3-8bcc5aa71c15"
      },
      "source": [
        "#root_path = '/content/gdrive/My Drive/Colab/'\n",
        "\n",
        "import os \n",
        "\n",
        "# Set your working directory to a folder in your Google Drive. This way, if your notebook times out,\n",
        "# your files will be saved in your Google Drive!\n",
        "\n",
        "# the base Google Drive directory\n",
        "root_dir = \"/content/drive/My Drive/\"\n",
        "\n",
        "# choose where you want your project files to be saved\n",
        "project_folder = \"Colab/\"\n",
        "\n",
        "def create_and_set_working_directory(project_folder):\n",
        "  # check if your project folder exists. if not, it will be created.\n",
        "  if os.path.isdir(root_dir + project_folder) == False:\n",
        "    os.mkdir(root_dir + project_folder)\n",
        "    print(root_dir + project_folder + ' did not exist but was created.')\n",
        "\n",
        "  # change the OS to use your project folder as the working directory\n",
        "  os.chdir(root_dir + project_folder)\n",
        "\n",
        "  # create a test file to make sure it shows up in the right place\n",
        "  !touch 'test_file.txt'\n",
        "  print('\\nYour working directory was changed to ' + root_dir + project_folder + \\\n",
        "        \"\\n\\nAn empty text file was created there. You can also run !pwd to confirm the current working directory.\" )\n",
        "\n",
        "create_and_set_working_directory(project_folder)"
      ],
      "execution_count": 1,
      "outputs": [
        {
          "output_type": "stream",
          "text": [
            "\n",
            "Your working directory was changed to /content/drive/My Drive/Colab/\n",
            "\n",
            "An empty text file was created there. You can also run !pwd to confirm the current working directory.\n"
          ],
          "name": "stdout"
        }
      ]
    },
    {
      "cell_type": "markdown",
      "metadata": {
        "id": "2EMRrqgJjJ4q"
      },
      "source": [
        "## Download dataset\n",
        "\n"
      ]
    },
    {
      "cell_type": "code",
      "metadata": {
        "id": "76qSsEAqhalI",
        "colab": {
          "base_uri": "https://localhost:8080/"
        },
        "outputId": "3e3123d0-c673-4ae3-9783-634279773d9d"
      },
      "source": [
        "#!wget http://www.cs.cornell.edu/~cristian/data/cornell_movie_dialogs_corpus.zip\n",
        "#!unzip cornell_movie_dialogs_corpus.zip"
      ],
      "execution_count": null,
      "outputs": [
        {
          "output_type": "stream",
          "text": [
            "Archive:  cornell_movie_dialogs_corpus.zip\n",
            "   creating: cornell movie-dialogs corpus/\n",
            "  inflating: cornell movie-dialogs corpus/.DS_Store  \n",
            "   creating: __MACOSX/\n",
            "   creating: __MACOSX/cornell movie-dialogs corpus/\n",
            "  inflating: __MACOSX/cornell movie-dialogs corpus/._.DS_Store  \n",
            "  inflating: cornell movie-dialogs corpus/chameleons.pdf  \n",
            "  inflating: __MACOSX/cornell movie-dialogs corpus/._chameleons.pdf  \n",
            "  inflating: cornell movie-dialogs corpus/movie_characters_metadata.txt  \n",
            "  inflating: cornell movie-dialogs corpus/movie_conversations.txt  \n",
            "  inflating: cornell movie-dialogs corpus/movie_lines.txt  \n",
            "  inflating: cornell movie-dialogs corpus/movie_titles_metadata.txt  \n",
            "  inflating: cornell movie-dialogs corpus/raw_script_urls.txt  \n",
            "  inflating: cornell movie-dialogs corpus/README.txt  \n",
            "  inflating: __MACOSX/cornell movie-dialogs corpus/._README.txt  \n"
          ],
          "name": "stdout"
        }
      ]
    },
    {
      "cell_type": "markdown",
      "metadata": {
        "id": "HGFphkRN1YTj"
      },
      "source": [
        "## Firstly import all necessaries libraries\n"
      ]
    },
    {
      "cell_type": "code",
      "metadata": {
        "id": "jHaxt9ACj8Pu"
      },
      "source": [
        "import numpy as np\n",
        "import tensorflow as tf\n",
        "import re\n",
        "import time"
      ],
      "execution_count": 2,
      "outputs": []
    },
    {
      "cell_type": "markdown",
      "metadata": {
        "id": "tTMV0Dkg1ixi"
      },
      "source": [
        "## Import dataset to the project"
      ]
    },
    {
      "cell_type": "code",
      "metadata": {
        "id": "Xj05XpBR1if6"
      },
      "source": [
        "lines = open('dataset/movie_lines.txt', encoding='utf-8', errors='ignore').read().split('\\n')\n",
        "conversations = open('dataset/movie_conversations.txt', encoding='utf-8', errors='ignore').read().split('\\n')"
      ],
      "execution_count": 3,
      "outputs": []
    },
    {
      "cell_type": "markdown",
      "metadata": {
        "id": "m5hAzR-5-Omc"
      },
      "source": [
        "## Create a dictionary that maps each line and it's ID"
      ]
    },
    {
      "cell_type": "code",
      "metadata": {
        "id": "r8BZXY-i-hqF"
      },
      "source": [
        "id2line = {} #init dictionary\n",
        "for line in lines:\n",
        "  _line = line.split(' +++$+++ ')\n",
        "  if len(_line) == 5:\n",
        "    id2line[_line[0]] = _line[4]\n",
        "\n",
        "# JUST TO CHECK DATA IN GOOGLE COLAB\n",
        "# retrieve key/value pairs\n",
        "#els = list(id2line.items()) # explicitly convert to a list, in case it's Python 3.x\n",
        "\n",
        "# get first inserted element \n",
        "#print(els[0])\n",
        "\n"
      ],
      "execution_count": 4,
      "outputs": []
    },
    {
      "cell_type": "markdown",
      "metadata": {
        "id": "ko8sKZMvy-pG"
      },
      "source": [
        "## Create a list of all of the conversations"
      ]
    },
    {
      "cell_type": "code",
      "metadata": {
        "id": "sYfmpvmlzcXo",
        "colab": {
          "base_uri": "https://localhost:8080/"
        },
        "outputId": "11487cae-afaf-4dd4-cb5d-358eb77a859d"
      },
      "source": [
        "conversations_ids = []\n",
        "for conversation in conversations[:-1]:\n",
        "  _conversation = conversation.split(\" +++$+++ \")[-1][1:-1].replace(\"'\",\"\").replace(\" \",\"\")\n",
        "  conversations_ids.append(_conversation.split(\",\"))\n",
        "# print(conversations_ids[0])\n",
        "# print(conversations_ids[1])"
      ],
      "execution_count": 12,
      "outputs": [
        {
          "output_type": "stream",
          "text": [
            "['L194', 'L195', 'L196', 'L197']\n",
            "['L198', 'L199']\n"
          ],
          "name": "stdout"
        }
      ]
    },
    {
      "cell_type": "markdown",
      "metadata": {
        "id": "GS44lfRiqDdn"
      },
      "source": [
        "## Getting separately the questions and the answers"
      ]
    },
    {
      "cell_type": "code",
      "metadata": {
        "id": "8Ilw9YaNqRma",
        "colab": {
          "base_uri": "https://localhost:8080/"
        },
        "outputId": "d140f238-2f5c-4359-9524-d4b3b5083245"
      },
      "source": [
        "questions = []\n",
        "answers = []\n",
        "for conversation in conversations_ids:\n",
        "  for i in range(len(conversation) - 1):\n",
        "    questions.append(id2line[conversation[i]])\n",
        "    answers.append(id2line[conversation[i+1]])\n",
        "\n",
        "#print(questions[0])\n",
        "#print(answers[0])\n"
      ],
      "execution_count": 9,
      "outputs": [
        {
          "output_type": "stream",
          "text": [
            "Can we make this quick?  Roxanne Korrine and Andrew Barrett are having an incredibly horrendous public break- up on the quad.  Again.\n",
            "Well, I thought we'd start with pronunciation, if that's okay with you.\n"
          ],
          "name": "stdout"
        }
      ]
    },
    {
      "cell_type": "markdown",
      "metadata": {
        "id": "DKqx7_pWeK3q"
      },
      "source": [
        "### Cleaning text function define"
      ]
    },
    {
      "cell_type": "code",
      "metadata": {
        "id": "FSx2d9UBeNLn"
      },
      "source": [
        "def clean_text(text):\n",
        "  #put all the text to lowercase\n",
        "  text = text.lower()\n",
        "  #removing aposthrophies with re library\n",
        "  text = re.sub(r\"i'm\", \"i am\", text)\n",
        "  text = re.sub(r\"he's\", \"he is\", text)\n",
        "  text = re.sub(r\"she's\", \"she is\", text)\n",
        "  text = re.sub(r\"that's\", \"that is\", text)\n",
        "  text = re.sub(r\"what's\", \"what is\", text)\n",
        "  text = re.sub(r\"where's\", \"where is\", text)\n",
        "  text = re.sub(r\"\\'ll\", \" will\", text)\n",
        "  text = re.sub(r\"\\'ve\", \" have\", text)\n",
        "  text = re.sub(r\"\\'re\", \" are\", text)\n",
        "  text = re.sub(r\"\\'d\", \" whould\", text)\n",
        "  text = re.sub(r\"won't\", \"will not\", text)\n",
        "  text = re.sub(r\"can't\", \"cannot\", text)\n",
        "  text = re.sub(r\"[-()\\\"#/@;:<>{}+=~|.?,]\", \"\", text)\n",
        "  return text"
      ],
      "execution_count": 13,
      "outputs": []
    },
    {
      "cell_type": "markdown",
      "metadata": {
        "id": "jEobb9UngllY"
      },
      "source": [
        "### Cleaning questions and answers"
      ]
    },
    {
      "cell_type": "code",
      "metadata": {
        "id": "tsf29AjKgnvo"
      },
      "source": [
        "clean_questions = []\n",
        "clean_answers = []\n",
        "\n",
        "for question in questions:\n",
        "  clean_questions.append(clean_text(question))\n",
        "\n",
        "for answer in answers:\n",
        "  clean_answers.append(clean_text(answer))  "
      ],
      "execution_count": 15,
      "outputs": []
    },
    {
      "cell_type": "markdown",
      "metadata": {
        "id": "IB_ZJZvPia30"
      },
      "source": [
        "### Creating a dictionary that maps each word to it's number of occurencies\n"
      ]
    },
    {
      "cell_type": "code",
      "metadata": {
        "id": "shqJNpq9imFY"
      },
      "source": [
        "word2count = {}\n",
        "\n",
        "for question in clean_questions:\n",
        "  for word in question.split():\n",
        "    if word not in word2count:\n",
        "      word2count[word] = 1\n",
        "    else:\n",
        "      word2count[word] += 1\n",
        "\n",
        "for answer in clean_answers:\n",
        "  for word in answer.split():\n",
        "    if word not in word2count:\n",
        "      word2count[word] = 1\n",
        "    else:\n",
        "      word2count[word] += 1      "
      ],
      "execution_count": 16,
      "outputs": []
    }
  ]
}